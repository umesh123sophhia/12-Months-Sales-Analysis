{
  "cells": [
    {
      "cell_type": "markdown",
      "metadata": {
        "id": "NeafkJIOlPN7"
      },
      "source": [
        "## import the imprtant libraries\n"
      ]
    },
    {
      "cell_type": "code",
      "execution_count": null,
      "metadata": {
        "id": "Rx9r1wjQiqtC"
      },
      "outputs": [],
      "source": [
        "import pandas as pd\n",
        "import numpy as np\n",
        "import matplotlib.pyplot as plt\n",
        "import matplotlib.style\n",
        "import seaborn as sns\n",
        "import os"
      ]
    },
    {
      "cell_type": "markdown",
      "metadata": {
        "id": "aDMADkV4qq-B"
      },
      "source": [
        "## Unziping the file using unzip"
      ]
    },
    {
      "cell_type": "code",
      "execution_count": null,
      "metadata": {
        "colab": {
          "base_uri": "https://localhost:8080/"
        },
        "id": "IfqpGBEzqv7A",
        "outputId": "2ef3e18a-678f-44f6-8f13-24194927dd0a"
      },
      "outputs": [
        {
          "output_type": "stream",
          "name": "stdout",
          "text": [
            "Archive:  /content/Pandas-Data-Science-Tasks-master.zip\n",
            "8b511cdf8aeea304bb64710784db29548414b736\n",
            "   creating: Pandas-Data-Science-Tasks-master/\n",
            "   creating: Pandas-Data-Science-Tasks-master/Misc/\n",
            "  inflating: Pandas-Data-Science-Tasks-master/Misc/create_data.py  \n",
            "  inflating: Pandas-Data-Science-Tasks-master/README.md  \n",
            "   creating: Pandas-Data-Science-Tasks-master/SalesAnalysis/\n",
            "   creating: Pandas-Data-Science-Tasks-master/SalesAnalysis/Output/\n",
            "  inflating: Pandas-Data-Science-Tasks-master/SalesAnalysis/Output/all_data.csv  \n",
            "  inflating: Pandas-Data-Science-Tasks-master/SalesAnalysis/SalesAnalysis.ipynb  \n",
            "   creating: Pandas-Data-Science-Tasks-master/SalesAnalysis/Sales_Data/\n",
            "  inflating: Pandas-Data-Science-Tasks-master/SalesAnalysis/Sales_Data/Sales_April_2019.csv  \n",
            "  inflating: Pandas-Data-Science-Tasks-master/SalesAnalysis/Sales_Data/Sales_August_2019.csv  \n",
            "  inflating: Pandas-Data-Science-Tasks-master/SalesAnalysis/Sales_Data/Sales_December_2019.csv  \n",
            "  inflating: Pandas-Data-Science-Tasks-master/SalesAnalysis/Sales_Data/Sales_February_2019.csv  \n",
            "  inflating: Pandas-Data-Science-Tasks-master/SalesAnalysis/Sales_Data/Sales_January_2019.csv  \n",
            "  inflating: Pandas-Data-Science-Tasks-master/SalesAnalysis/Sales_Data/Sales_July_2019.csv  \n",
            "  inflating: Pandas-Data-Science-Tasks-master/SalesAnalysis/Sales_Data/Sales_June_2019.csv  \n",
            "  inflating: Pandas-Data-Science-Tasks-master/SalesAnalysis/Sales_Data/Sales_March_2019.csv  \n",
            "  inflating: Pandas-Data-Science-Tasks-master/SalesAnalysis/Sales_Data/Sales_May_2019.csv  \n",
            "  inflating: Pandas-Data-Science-Tasks-master/SalesAnalysis/Sales_Data/Sales_November_2019.csv  \n",
            "  inflating: Pandas-Data-Science-Tasks-master/SalesAnalysis/Sales_Data/Sales_October_2019.csv  \n",
            "  inflating: Pandas-Data-Science-Tasks-master/SalesAnalysis/Sales_Data/Sales_September_2019.csv  \n"
          ]
        }
      ],
      "source": [
        "!unzip /content/Pandas-Data-Science-Tasks-master.zip"
      ]
    },
    {
      "cell_type": "markdown",
      "metadata": {
        "id": "B0v5BXbprfcc"
      },
      "source": [
        "# Merging the all 12 Months file in one single dataframe"
      ]
    },
    {
      "cell_type": "code",
      "execution_count": null,
      "metadata": {
        "colab": {
          "base_uri": "https://localhost:8080/",
          "height": 223
        },
        "id": "XE5vFmfvqwiR",
        "outputId": "eacd64e1-df29-4689-b3ee-25dd021473ac"
      },
      "outputs": [
        {
          "output_type": "stream",
          "name": "stdout",
          "text": [
            "(186850, 6)\n"
          ]
        },
        {
          "output_type": "execute_result",
          "data": {
            "text/plain": [
              "  Order ID                Product Quantity Ordered Price Each      Order Date  \\\n",
              "0   248151  AA Batteries (4-pack)                4       3.84  09/17/19 14:44   \n",
              "1   248152   USB-C Charging Cable                2      11.95  09/29/19 10:19   \n",
              "2   248153   USB-C Charging Cable                1      11.95  09/16/19 17:48   \n",
              "3   248154       27in FHD Monitor                1     149.99  09/27/19 07:52   \n",
              "4   248155   USB-C Charging Cable                1      11.95  09/01/19 19:03   \n",
              "\n",
              "                        Purchase Address  \n",
              "0    380 North St, Los Angeles, CA 90001  \n",
              "1           511 8th St, Austin, TX 73301  \n",
              "2  151 Johnson St, Los Angeles, CA 90001  \n",
              "3      355 Hickory St, Seattle, WA 98101  \n",
              "4          125 5th St, Atlanta, GA 30301  "
            ],
            "text/html": [
              "\n",
              "  <div id=\"df-8f6718f9-f5ed-42c2-952a-26099060355e\">\n",
              "    <div class=\"colab-df-container\">\n",
              "      <div>\n",
              "<style scoped>\n",
              "    .dataframe tbody tr th:only-of-type {\n",
              "        vertical-align: middle;\n",
              "    }\n",
              "\n",
              "    .dataframe tbody tr th {\n",
              "        vertical-align: top;\n",
              "    }\n",
              "\n",
              "    .dataframe thead th {\n",
              "        text-align: right;\n",
              "    }\n",
              "</style>\n",
              "<table border=\"1\" class=\"dataframe\">\n",
              "  <thead>\n",
              "    <tr style=\"text-align: right;\">\n",
              "      <th></th>\n",
              "      <th>Order ID</th>\n",
              "      <th>Product</th>\n",
              "      <th>Quantity Ordered</th>\n",
              "      <th>Price Each</th>\n",
              "      <th>Order Date</th>\n",
              "      <th>Purchase Address</th>\n",
              "    </tr>\n",
              "  </thead>\n",
              "  <tbody>\n",
              "    <tr>\n",
              "      <th>0</th>\n",
              "      <td>248151</td>\n",
              "      <td>AA Batteries (4-pack)</td>\n",
              "      <td>4</td>\n",
              "      <td>3.84</td>\n",
              "      <td>09/17/19 14:44</td>\n",
              "      <td>380 North St, Los Angeles, CA 90001</td>\n",
              "    </tr>\n",
              "    <tr>\n",
              "      <th>1</th>\n",
              "      <td>248152</td>\n",
              "      <td>USB-C Charging Cable</td>\n",
              "      <td>2</td>\n",
              "      <td>11.95</td>\n",
              "      <td>09/29/19 10:19</td>\n",
              "      <td>511 8th St, Austin, TX 73301</td>\n",
              "    </tr>\n",
              "    <tr>\n",
              "      <th>2</th>\n",
              "      <td>248153</td>\n",
              "      <td>USB-C Charging Cable</td>\n",
              "      <td>1</td>\n",
              "      <td>11.95</td>\n",
              "      <td>09/16/19 17:48</td>\n",
              "      <td>151 Johnson St, Los Angeles, CA 90001</td>\n",
              "    </tr>\n",
              "    <tr>\n",
              "      <th>3</th>\n",
              "      <td>248154</td>\n",
              "      <td>27in FHD Monitor</td>\n",
              "      <td>1</td>\n",
              "      <td>149.99</td>\n",
              "      <td>09/27/19 07:52</td>\n",
              "      <td>355 Hickory St, Seattle, WA 98101</td>\n",
              "    </tr>\n",
              "    <tr>\n",
              "      <th>4</th>\n",
              "      <td>248155</td>\n",
              "      <td>USB-C Charging Cable</td>\n",
              "      <td>1</td>\n",
              "      <td>11.95</td>\n",
              "      <td>09/01/19 19:03</td>\n",
              "      <td>125 5th St, Atlanta, GA 30301</td>\n",
              "    </tr>\n",
              "  </tbody>\n",
              "</table>\n",
              "</div>\n",
              "      <button class=\"colab-df-convert\" onclick=\"convertToInteractive('df-8f6718f9-f5ed-42c2-952a-26099060355e')\"\n",
              "              title=\"Convert this dataframe to an interactive table.\"\n",
              "              style=\"display:none;\">\n",
              "        \n",
              "  <svg xmlns=\"http://www.w3.org/2000/svg\" height=\"24px\"viewBox=\"0 0 24 24\"\n",
              "       width=\"24px\">\n",
              "    <path d=\"M0 0h24v24H0V0z\" fill=\"none\"/>\n",
              "    <path d=\"M18.56 5.44l.94 2.06.94-2.06 2.06-.94-2.06-.94-.94-2.06-.94 2.06-2.06.94zm-11 1L8.5 8.5l.94-2.06 2.06-.94-2.06-.94L8.5 2.5l-.94 2.06-2.06.94zm10 10l.94 2.06.94-2.06 2.06-.94-2.06-.94-.94-2.06-.94 2.06-2.06.94z\"/><path d=\"M17.41 7.96l-1.37-1.37c-.4-.4-.92-.59-1.43-.59-.52 0-1.04.2-1.43.59L10.3 9.45l-7.72 7.72c-.78.78-.78 2.05 0 2.83L4 21.41c.39.39.9.59 1.41.59.51 0 1.02-.2 1.41-.59l7.78-7.78 2.81-2.81c.8-.78.8-2.07 0-2.86zM5.41 20L4 18.59l7.72-7.72 1.47 1.35L5.41 20z\"/>\n",
              "  </svg>\n",
              "      </button>\n",
              "      \n",
              "  <style>\n",
              "    .colab-df-container {\n",
              "      display:flex;\n",
              "      flex-wrap:wrap;\n",
              "      gap: 12px;\n",
              "    }\n",
              "\n",
              "    .colab-df-convert {\n",
              "      background-color: #E8F0FE;\n",
              "      border: none;\n",
              "      border-radius: 50%;\n",
              "      cursor: pointer;\n",
              "      display: none;\n",
              "      fill: #1967D2;\n",
              "      height: 32px;\n",
              "      padding: 0 0 0 0;\n",
              "      width: 32px;\n",
              "    }\n",
              "\n",
              "    .colab-df-convert:hover {\n",
              "      background-color: #E2EBFA;\n",
              "      box-shadow: 0px 1px 2px rgba(60, 64, 67, 0.3), 0px 1px 3px 1px rgba(60, 64, 67, 0.15);\n",
              "      fill: #174EA6;\n",
              "    }\n",
              "\n",
              "    [theme=dark] .colab-df-convert {\n",
              "      background-color: #3B4455;\n",
              "      fill: #D2E3FC;\n",
              "    }\n",
              "\n",
              "    [theme=dark] .colab-df-convert:hover {\n",
              "      background-color: #434B5C;\n",
              "      box-shadow: 0px 1px 3px 1px rgba(0, 0, 0, 0.15);\n",
              "      filter: drop-shadow(0px 1px 2px rgba(0, 0, 0, 0.3));\n",
              "      fill: #FFFFFF;\n",
              "    }\n",
              "  </style>\n",
              "\n",
              "      <script>\n",
              "        const buttonEl =\n",
              "          document.querySelector('#df-8f6718f9-f5ed-42c2-952a-26099060355e button.colab-df-convert');\n",
              "        buttonEl.style.display =\n",
              "          google.colab.kernel.accessAllowed ? 'block' : 'none';\n",
              "\n",
              "        async function convertToInteractive(key) {\n",
              "          const element = document.querySelector('#df-8f6718f9-f5ed-42c2-952a-26099060355e');\n",
              "          const dataTable =\n",
              "            await google.colab.kernel.invokeFunction('convertToInteractive',\n",
              "                                                     [key], {});\n",
              "          if (!dataTable) return;\n",
              "\n",
              "          const docLinkHtml = 'Like what you see? Visit the ' +\n",
              "            '<a target=\"_blank\" href=https://colab.research.google.com/notebooks/data_table.ipynb>data table notebook</a>'\n",
              "            + ' to learn more about interactive tables.';\n",
              "          element.innerHTML = '';\n",
              "          dataTable['output_type'] = 'display_data';\n",
              "          await google.colab.output.renderOutput(dataTable, element);\n",
              "          const docLink = document.createElement('div');\n",
              "          docLink.innerHTML = docLinkHtml;\n",
              "          element.appendChild(docLink);\n",
              "        }\n",
              "      </script>\n",
              "    </div>\n",
              "  </div>\n",
              "  "
            ]
          },
          "metadata": {},
          "execution_count": 3
        }
      ],
      "source": [
        "files = [file for file in os.listdir('/content/Pandas-Data-Science-Tasks-master/SalesAnalysis/Sales_Data')]\n",
        "\n",
        "#intializing a new dataframe\n",
        "all_months_data = pd.DataFrame()\n",
        "\n",
        "for file in files:\n",
        "  df = pd.read_csv('/content/Pandas-Data-Science-Tasks-master/SalesAnalysis/Sales_Data/'+file)\n",
        "  all_months_data = pd.concat([all_months_data,df])\n",
        "\n",
        "#converting teh dataframe using pd.to_csv() function without indexing\n",
        "all_months_data.to_csv(\"all_data.csv\",index=False)\n",
        "\n",
        "#printing first 5 rows of dataset\n",
        "print(all_months_data.shape)\n",
        "all_months_data.head()"
      ]
    },
    {
      "cell_type": "markdown",
      "metadata": {
        "id": "GFMnlPbcQt7D"
      },
      "source": [
        "# *Clean the data*"
      ]
    },
    {
      "cell_type": "markdown",
      "metadata": {
        "id": "GAiyfwj7uKt7"
      },
      "source": [
        "seeiing the null data using isnull"
      ]
    },
    {
      "cell_type": "markdown",
      "metadata": {
        "id": "MAVLyAAquoT1"
      },
      "source": [
        "drop the null value containing rows"
      ]
    },
    {
      "cell_type": "code",
      "execution_count": null,
      "metadata": {
        "colab": {
          "base_uri": "https://localhost:8080/"
        },
        "id": "XUgaF99XQtWU",
        "outputId": "7aa9c6af-5e15-46c4-b850-4dc6f7efe3ef"
      },
      "outputs": [
        {
          "output_type": "execute_result",
          "data": {
            "text/plain": [
              "Index(['Order ID', 'Product', 'Quantity Ordered', 'Price Each', 'Order Date',\n",
              "       'Purchase Address'],\n",
              "      dtype='object')"
            ]
          },
          "metadata": {},
          "execution_count": 4
        }
      ],
      "source": [
        "\n",
        "all_months_data[all_months_data['Order Date'].isnull()]\n",
        "all_months_data.dropna(how = 'all', inplace=True)\n",
        "all_months_data.columns"
      ]
    },
    {
      "cell_type": "markdown",
      "metadata": {
        "id": "h0DL1yDCv4uK"
      },
      "source": [
        "But we also have the value 'Or' containing months column so for this issue lets see"
      ]
    },
    {
      "cell_type": "code",
      "execution_count": null,
      "metadata": {
        "colab": {
          "base_uri": "https://localhost:8080/",
          "height": 206
        },
        "id": "5Hh14zYiwB_n",
        "outputId": "8bafa60c-4d2d-4843-8239-799ca95bfe46"
      },
      "outputs": [
        {
          "output_type": "execute_result",
          "data": {
            "text/plain": [
              "      Order ID  Product  Quantity Ordered  Price Each  Order Date  \\\n",
              "1679  Order ID  Product  Quantity Ordered  Price Each  Order Date   \n",
              "3732  Order ID  Product  Quantity Ordered  Price Each  Order Date   \n",
              "3790  Order ID  Product  Quantity Ordered  Price Each  Order Date   \n",
              "4323  Order ID  Product  Quantity Ordered  Price Each  Order Date   \n",
              "5579  Order ID  Product  Quantity Ordered  Price Each  Order Date   \n",
              "\n",
              "      Purchase Address Months  \n",
              "1679  Purchase Address     Or  \n",
              "3732  Purchase Address     Or  \n",
              "3790  Purchase Address     Or  \n",
              "4323  Purchase Address     Or  \n",
              "5579  Purchase Address     Or  "
            ],
            "text/html": [
              "\n",
              "  <div id=\"df-afb267eb-1e58-4318-bb01-b9fb1a00cb02\">\n",
              "    <div class=\"colab-df-container\">\n",
              "      <div>\n",
              "<style scoped>\n",
              "    .dataframe tbody tr th:only-of-type {\n",
              "        vertical-align: middle;\n",
              "    }\n",
              "\n",
              "    .dataframe tbody tr th {\n",
              "        vertical-align: top;\n",
              "    }\n",
              "\n",
              "    .dataframe thead th {\n",
              "        text-align: right;\n",
              "    }\n",
              "</style>\n",
              "<table border=\"1\" class=\"dataframe\">\n",
              "  <thead>\n",
              "    <tr style=\"text-align: right;\">\n",
              "      <th></th>\n",
              "      <th>Order ID</th>\n",
              "      <th>Product</th>\n",
              "      <th>Quantity Ordered</th>\n",
              "      <th>Price Each</th>\n",
              "      <th>Order Date</th>\n",
              "      <th>Purchase Address</th>\n",
              "      <th>Months</th>\n",
              "    </tr>\n",
              "  </thead>\n",
              "  <tbody>\n",
              "    <tr>\n",
              "      <th>1679</th>\n",
              "      <td>Order ID</td>\n",
              "      <td>Product</td>\n",
              "      <td>Quantity Ordered</td>\n",
              "      <td>Price Each</td>\n",
              "      <td>Order Date</td>\n",
              "      <td>Purchase Address</td>\n",
              "      <td>Or</td>\n",
              "    </tr>\n",
              "    <tr>\n",
              "      <th>3732</th>\n",
              "      <td>Order ID</td>\n",
              "      <td>Product</td>\n",
              "      <td>Quantity Ordered</td>\n",
              "      <td>Price Each</td>\n",
              "      <td>Order Date</td>\n",
              "      <td>Purchase Address</td>\n",
              "      <td>Or</td>\n",
              "    </tr>\n",
              "    <tr>\n",
              "      <th>3790</th>\n",
              "      <td>Order ID</td>\n",
              "      <td>Product</td>\n",
              "      <td>Quantity Ordered</td>\n",
              "      <td>Price Each</td>\n",
              "      <td>Order Date</td>\n",
              "      <td>Purchase Address</td>\n",
              "      <td>Or</td>\n",
              "    </tr>\n",
              "    <tr>\n",
              "      <th>4323</th>\n",
              "      <td>Order ID</td>\n",
              "      <td>Product</td>\n",
              "      <td>Quantity Ordered</td>\n",
              "      <td>Price Each</td>\n",
              "      <td>Order Date</td>\n",
              "      <td>Purchase Address</td>\n",
              "      <td>Or</td>\n",
              "    </tr>\n",
              "    <tr>\n",
              "      <th>5579</th>\n",
              "      <td>Order ID</td>\n",
              "      <td>Product</td>\n",
              "      <td>Quantity Ordered</td>\n",
              "      <td>Price Each</td>\n",
              "      <td>Order Date</td>\n",
              "      <td>Purchase Address</td>\n",
              "      <td>Or</td>\n",
              "    </tr>\n",
              "  </tbody>\n",
              "</table>\n",
              "</div>\n",
              "      <button class=\"colab-df-convert\" onclick=\"convertToInteractive('df-afb267eb-1e58-4318-bb01-b9fb1a00cb02')\"\n",
              "              title=\"Convert this dataframe to an interactive table.\"\n",
              "              style=\"display:none;\">\n",
              "        \n",
              "  <svg xmlns=\"http://www.w3.org/2000/svg\" height=\"24px\"viewBox=\"0 0 24 24\"\n",
              "       width=\"24px\">\n",
              "    <path d=\"M0 0h24v24H0V0z\" fill=\"none\"/>\n",
              "    <path d=\"M18.56 5.44l.94 2.06.94-2.06 2.06-.94-2.06-.94-.94-2.06-.94 2.06-2.06.94zm-11 1L8.5 8.5l.94-2.06 2.06-.94-2.06-.94L8.5 2.5l-.94 2.06-2.06.94zm10 10l.94 2.06.94-2.06 2.06-.94-2.06-.94-.94-2.06-.94 2.06-2.06.94z\"/><path d=\"M17.41 7.96l-1.37-1.37c-.4-.4-.92-.59-1.43-.59-.52 0-1.04.2-1.43.59L10.3 9.45l-7.72 7.72c-.78.78-.78 2.05 0 2.83L4 21.41c.39.39.9.59 1.41.59.51 0 1.02-.2 1.41-.59l7.78-7.78 2.81-2.81c.8-.78.8-2.07 0-2.86zM5.41 20L4 18.59l7.72-7.72 1.47 1.35L5.41 20z\"/>\n",
              "  </svg>\n",
              "      </button>\n",
              "      \n",
              "  <style>\n",
              "    .colab-df-container {\n",
              "      display:flex;\n",
              "      flex-wrap:wrap;\n",
              "      gap: 12px;\n",
              "    }\n",
              "\n",
              "    .colab-df-convert {\n",
              "      background-color: #E8F0FE;\n",
              "      border: none;\n",
              "      border-radius: 50%;\n",
              "      cursor: pointer;\n",
              "      display: none;\n",
              "      fill: #1967D2;\n",
              "      height: 32px;\n",
              "      padding: 0 0 0 0;\n",
              "      width: 32px;\n",
              "    }\n",
              "\n",
              "    .colab-df-convert:hover {\n",
              "      background-color: #E2EBFA;\n",
              "      box-shadow: 0px 1px 2px rgba(60, 64, 67, 0.3), 0px 1px 3px 1px rgba(60, 64, 67, 0.15);\n",
              "      fill: #174EA6;\n",
              "    }\n",
              "\n",
              "    [theme=dark] .colab-df-convert {\n",
              "      background-color: #3B4455;\n",
              "      fill: #D2E3FC;\n",
              "    }\n",
              "\n",
              "    [theme=dark] .colab-df-convert:hover {\n",
              "      background-color: #434B5C;\n",
              "      box-shadow: 0px 1px 3px 1px rgba(0, 0, 0, 0.15);\n",
              "      filter: drop-shadow(0px 1px 2px rgba(0, 0, 0, 0.3));\n",
              "      fill: #FFFFFF;\n",
              "    }\n",
              "  </style>\n",
              "\n",
              "      <script>\n",
              "        const buttonEl =\n",
              "          document.querySelector('#df-afb267eb-1e58-4318-bb01-b9fb1a00cb02 button.colab-df-convert');\n",
              "        buttonEl.style.display =\n",
              "          google.colab.kernel.accessAllowed ? 'block' : 'none';\n",
              "\n",
              "        async function convertToInteractive(key) {\n",
              "          const element = document.querySelector('#df-afb267eb-1e58-4318-bb01-b9fb1a00cb02');\n",
              "          const dataTable =\n",
              "            await google.colab.kernel.invokeFunction('convertToInteractive',\n",
              "                                                     [key], {});\n",
              "          if (!dataTable) return;\n",
              "\n",
              "          const docLinkHtml = 'Like what you see? Visit the ' +\n",
              "            '<a target=\"_blank\" href=https://colab.research.google.com/notebooks/data_table.ipynb>data table notebook</a>'\n",
              "            + ' to learn more about interactive tables.';\n",
              "          element.innerHTML = '';\n",
              "          dataTable['output_type'] = 'display_data';\n",
              "          await google.colab.output.renderOutput(dataTable, element);\n",
              "          const docLink = document.createElement('div');\n",
              "          docLink.innerHTML = docLinkHtml;\n",
              "          element.appendChild(docLink);\n",
              "        }\n",
              "      </script>\n",
              "    </div>\n",
              "  </div>\n",
              "  "
            ]
          },
          "metadata": {},
          "execution_count": 5
        }
      ],
      "source": [
        "all_months_data['Months'] = all_months_data['Order Date'].str[:2]\n",
        "\n",
        "temp_df = all_months_data[all_months_data['Months']=='Or']\n",
        "#and printing them in some of the rows\n",
        "temp_df.head()"
      ]
    },
    {
      "cell_type": "markdown",
      "metadata": {
        "id": "u5Yjp_h9xQzJ"
      },
      "source": [
        "for this problem we can again modify the dataframe like this"
      ]
    },
    {
      "cell_type": "code",
      "execution_count": null,
      "metadata": {
        "colab": {
          "base_uri": "https://localhost:8080/"
        },
        "id": "8mIurifKxPn_",
        "outputId": "32146da1-1695-4fd4-e591-ef4c668be9f1"
      },
      "outputs": [
        {
          "output_type": "execute_result",
          "data": {
            "text/plain": [
              "Order ID            0\n",
              "Product             0\n",
              "Quantity Ordered    0\n",
              "Price Each          0\n",
              "Order Date          0\n",
              "Purchase Address    0\n",
              "Months              0\n",
              "dtype: int64"
            ]
          },
          "metadata": {},
          "execution_count": 6
        }
      ],
      "source": [
        "all_months_data = all_months_data[all_months_data['Months']!='Or']\n",
        "\n",
        "#cconfirming thedataset if again containing any null value0u970okd\n",
        "all_months_data.isnull().sum()"
      ]
    },
    {
      "cell_type": "markdown",
      "metadata": {
        "id": "9i1D4cymPvEp"
      },
      "source": [
        "Adding the months comulmn"
      ]
    },
    {
      "cell_type": "code",
      "execution_count": null,
      "metadata": {
        "colab": {
          "base_uri": "https://localhost:8080/",
          "height": 206
        },
        "id": "F5oJ9Xd-PyDB",
        "outputId": "f4872f88-8fec-4cc9-ef90-4ba17baca951"
      },
      "outputs": [
        {
          "output_type": "execute_result",
          "data": {
            "text/plain": [
              "  Order ID                Product Quantity Ordered Price Each      Order Date  \\\n",
              "0   248151  AA Batteries (4-pack)                4       3.84  09/17/19 14:44   \n",
              "1   248152   USB-C Charging Cable                2      11.95  09/29/19 10:19   \n",
              "2   248153   USB-C Charging Cable                1      11.95  09/16/19 17:48   \n",
              "3   248154       27in FHD Monitor                1     149.99  09/27/19 07:52   \n",
              "4   248155   USB-C Charging Cable                1      11.95  09/01/19 19:03   \n",
              "\n",
              "                        Purchase Address  Months  \n",
              "0    380 North St, Los Angeles, CA 90001       9  \n",
              "1           511 8th St, Austin, TX 73301       9  \n",
              "2  151 Johnson St, Los Angeles, CA 90001       9  \n",
              "3      355 Hickory St, Seattle, WA 98101       9  \n",
              "4          125 5th St, Atlanta, GA 30301       9  "
            ],
            "text/html": [
              "\n",
              "  <div id=\"df-7f48855f-c3b7-44ee-9bbb-5e8f94bc2bdf\">\n",
              "    <div class=\"colab-df-container\">\n",
              "      <div>\n",
              "<style scoped>\n",
              "    .dataframe tbody tr th:only-of-type {\n",
              "        vertical-align: middle;\n",
              "    }\n",
              "\n",
              "    .dataframe tbody tr th {\n",
              "        vertical-align: top;\n",
              "    }\n",
              "\n",
              "    .dataframe thead th {\n",
              "        text-align: right;\n",
              "    }\n",
              "</style>\n",
              "<table border=\"1\" class=\"dataframe\">\n",
              "  <thead>\n",
              "    <tr style=\"text-align: right;\">\n",
              "      <th></th>\n",
              "      <th>Order ID</th>\n",
              "      <th>Product</th>\n",
              "      <th>Quantity Ordered</th>\n",
              "      <th>Price Each</th>\n",
              "      <th>Order Date</th>\n",
              "      <th>Purchase Address</th>\n",
              "      <th>Months</th>\n",
              "    </tr>\n",
              "  </thead>\n",
              "  <tbody>\n",
              "    <tr>\n",
              "      <th>0</th>\n",
              "      <td>248151</td>\n",
              "      <td>AA Batteries (4-pack)</td>\n",
              "      <td>4</td>\n",
              "      <td>3.84</td>\n",
              "      <td>09/17/19 14:44</td>\n",
              "      <td>380 North St, Los Angeles, CA 90001</td>\n",
              "      <td>9</td>\n",
              "    </tr>\n",
              "    <tr>\n",
              "      <th>1</th>\n",
              "      <td>248152</td>\n",
              "      <td>USB-C Charging Cable</td>\n",
              "      <td>2</td>\n",
              "      <td>11.95</td>\n",
              "      <td>09/29/19 10:19</td>\n",
              "      <td>511 8th St, Austin, TX 73301</td>\n",
              "      <td>9</td>\n",
              "    </tr>\n",
              "    <tr>\n",
              "      <th>2</th>\n",
              "      <td>248153</td>\n",
              "      <td>USB-C Charging Cable</td>\n",
              "      <td>1</td>\n",
              "      <td>11.95</td>\n",
              "      <td>09/16/19 17:48</td>\n",
              "      <td>151 Johnson St, Los Angeles, CA 90001</td>\n",
              "      <td>9</td>\n",
              "    </tr>\n",
              "    <tr>\n",
              "      <th>3</th>\n",
              "      <td>248154</td>\n",
              "      <td>27in FHD Monitor</td>\n",
              "      <td>1</td>\n",
              "      <td>149.99</td>\n",
              "      <td>09/27/19 07:52</td>\n",
              "      <td>355 Hickory St, Seattle, WA 98101</td>\n",
              "      <td>9</td>\n",
              "    </tr>\n",
              "    <tr>\n",
              "      <th>4</th>\n",
              "      <td>248155</td>\n",
              "      <td>USB-C Charging Cable</td>\n",
              "      <td>1</td>\n",
              "      <td>11.95</td>\n",
              "      <td>09/01/19 19:03</td>\n",
              "      <td>125 5th St, Atlanta, GA 30301</td>\n",
              "      <td>9</td>\n",
              "    </tr>\n",
              "  </tbody>\n",
              "</table>\n",
              "</div>\n",
              "      <button class=\"colab-df-convert\" onclick=\"convertToInteractive('df-7f48855f-c3b7-44ee-9bbb-5e8f94bc2bdf')\"\n",
              "              title=\"Convert this dataframe to an interactive table.\"\n",
              "              style=\"display:none;\">\n",
              "        \n",
              "  <svg xmlns=\"http://www.w3.org/2000/svg\" height=\"24px\"viewBox=\"0 0 24 24\"\n",
              "       width=\"24px\">\n",
              "    <path d=\"M0 0h24v24H0V0z\" fill=\"none\"/>\n",
              "    <path d=\"M18.56 5.44l.94 2.06.94-2.06 2.06-.94-2.06-.94-.94-2.06-.94 2.06-2.06.94zm-11 1L8.5 8.5l.94-2.06 2.06-.94-2.06-.94L8.5 2.5l-.94 2.06-2.06.94zm10 10l.94 2.06.94-2.06 2.06-.94-2.06-.94-.94-2.06-.94 2.06-2.06.94z\"/><path d=\"M17.41 7.96l-1.37-1.37c-.4-.4-.92-.59-1.43-.59-.52 0-1.04.2-1.43.59L10.3 9.45l-7.72 7.72c-.78.78-.78 2.05 0 2.83L4 21.41c.39.39.9.59 1.41.59.51 0 1.02-.2 1.41-.59l7.78-7.78 2.81-2.81c.8-.78.8-2.07 0-2.86zM5.41 20L4 18.59l7.72-7.72 1.47 1.35L5.41 20z\"/>\n",
              "  </svg>\n",
              "      </button>\n",
              "      \n",
              "  <style>\n",
              "    .colab-df-container {\n",
              "      display:flex;\n",
              "      flex-wrap:wrap;\n",
              "      gap: 12px;\n",
              "    }\n",
              "\n",
              "    .colab-df-convert {\n",
              "      background-color: #E8F0FE;\n",
              "      border: none;\n",
              "      border-radius: 50%;\n",
              "      cursor: pointer;\n",
              "      display: none;\n",
              "      fill: #1967D2;\n",
              "      height: 32px;\n",
              "      padding: 0 0 0 0;\n",
              "      width: 32px;\n",
              "    }\n",
              "\n",
              "    .colab-df-convert:hover {\n",
              "      background-color: #E2EBFA;\n",
              "      box-shadow: 0px 1px 2px rgba(60, 64, 67, 0.3), 0px 1px 3px 1px rgba(60, 64, 67, 0.15);\n",
              "      fill: #174EA6;\n",
              "    }\n",
              "\n",
              "    [theme=dark] .colab-df-convert {\n",
              "      background-color: #3B4455;\n",
              "      fill: #D2E3FC;\n",
              "    }\n",
              "\n",
              "    [theme=dark] .colab-df-convert:hover {\n",
              "      background-color: #434B5C;\n",
              "      box-shadow: 0px 1px 3px 1px rgba(0, 0, 0, 0.15);\n",
              "      filter: drop-shadow(0px 1px 2px rgba(0, 0, 0, 0.3));\n",
              "      fill: #FFFFFF;\n",
              "    }\n",
              "  </style>\n",
              "\n",
              "      <script>\n",
              "        const buttonEl =\n",
              "          document.querySelector('#df-7f48855f-c3b7-44ee-9bbb-5e8f94bc2bdf button.colab-df-convert');\n",
              "        buttonEl.style.display =\n",
              "          google.colab.kernel.accessAllowed ? 'block' : 'none';\n",
              "\n",
              "        async function convertToInteractive(key) {\n",
              "          const element = document.querySelector('#df-7f48855f-c3b7-44ee-9bbb-5e8f94bc2bdf');\n",
              "          const dataTable =\n",
              "            await google.colab.kernel.invokeFunction('convertToInteractive',\n",
              "                                                     [key], {});\n",
              "          if (!dataTable) return;\n",
              "\n",
              "          const docLinkHtml = 'Like what you see? Visit the ' +\n",
              "            '<a target=\"_blank\" href=https://colab.research.google.com/notebooks/data_table.ipynb>data table notebook</a>'\n",
              "            + ' to learn more about interactive tables.';\n",
              "          element.innerHTML = '';\n",
              "          dataTable['output_type'] = 'display_data';\n",
              "          await google.colab.output.renderOutput(dataTable, element);\n",
              "          const docLink = document.createElement('div');\n",
              "          docLink.innerHTML = docLinkHtml;\n",
              "          element.appendChild(docLink);\n",
              "        }\n",
              "      </script>\n",
              "    </div>\n",
              "  </div>\n",
              "  "
            ]
          },
          "metadata": {},
          "execution_count": 7
        }
      ],
      "source": [
        "#all_months_data['Months'] = all_months_data['Order Date'].str[:2]\n",
        "\n",
        "#changing the data type\n",
        "all_months_data['Months'] = all_months_data['Months'].astype('int32')\n",
        "all_months_data.head(5)"
      ]
    },
    {
      "cell_type": "markdown",
      "metadata": {
        "id": "JxSVLJIniqYy"
      },
      "source": [
        "# Task 1  What was the best month for Sale ? how much was earned on that Month?"
      ]
    },
    {
      "cell_type": "markdown",
      "metadata": {
        "id": "L4KL-cKGy9TZ"
      },
      "source": [
        "**for this task we have to add a new column called Sales column which is multipication of the Quantity and Price Columns**"
      ]
    },
    {
      "cell_type": "code",
      "execution_count": null,
      "metadata": {
        "colab": {
          "base_uri": "https://localhost:8080/"
        },
        "id": "MODdLD11zWxj",
        "outputId": "46b0ccec-53be-4f89-c2e7-b77237f5330e"
      },
      "outputs": [
        {
          "output_type": "stream",
          "name": "stdout",
          "text": [
            "<class 'pandas.core.frame.DataFrame'>\n",
            "Int64Index: 185950 entries, 0 to 13621\n",
            "Data columns (total 7 columns):\n",
            " #   Column            Non-Null Count   Dtype  \n",
            "---  ------            --------------   -----  \n",
            " 0   Order ID          185950 non-null  object \n",
            " 1   Product           185950 non-null  object \n",
            " 2   Quantity Ordered  185950 non-null  int64  \n",
            " 3   Price Each        185950 non-null  float64\n",
            " 4   Order Date        185950 non-null  object \n",
            " 5   Purchase Address  185950 non-null  object \n",
            " 6   Months            185950 non-null  int32  \n",
            "dtypes: float64(1), int32(1), int64(1), object(4)\n",
            "memory usage: 10.6+ MB\n"
          ]
        }
      ],
      "source": [
        "#converting the Quantity Ordered and Price column Data type into numeric\n",
        "all_months_data['Quantity Ordered'] = pd.to_numeric(all_months_data['Quantity Ordered'])\n",
        "all_months_data['Price Each']  = pd.to_numeric(all_months_data['Price Each'])\n",
        "\n",
        "#knowing the info about the data type of all column b yinfo function\n",
        "all_months_data.info()"
      ]
    },
    {
      "cell_type": "markdown",
      "metadata": {
        "id": "uU1uiPp11OvH"
      },
      "source": [
        "Adding the new column called Sales"
      ]
    },
    {
      "cell_type": "code",
      "execution_count": null,
      "metadata": {
        "colab": {
          "base_uri": "https://localhost:8080/",
          "height": 206
        },
        "id": "qms8BQcPis2R",
        "outputId": "04e43ffe-9d50-4d25-de83-9128e78c3548"
      },
      "outputs": [
        {
          "output_type": "execute_result",
          "data": {
            "text/plain": [
              "  Order ID                Product  Quantity Ordered  Price Each  \\\n",
              "0   248151  AA Batteries (4-pack)                 4        3.84   \n",
              "1   248152   USB-C Charging Cable                 2       11.95   \n",
              "2   248153   USB-C Charging Cable                 1       11.95   \n",
              "3   248154       27in FHD Monitor                 1      149.99   \n",
              "4   248155   USB-C Charging Cable                 1       11.95   \n",
              "\n",
              "       Order Date                       Purchase Address  Months   Sales  \n",
              "0  09/17/19 14:44    380 North St, Los Angeles, CA 90001       9   15.36  \n",
              "1  09/29/19 10:19           511 8th St, Austin, TX 73301       9   23.90  \n",
              "2  09/16/19 17:48  151 Johnson St, Los Angeles, CA 90001       9   11.95  \n",
              "3  09/27/19 07:52      355 Hickory St, Seattle, WA 98101       9  149.99  \n",
              "4  09/01/19 19:03          125 5th St, Atlanta, GA 30301       9   11.95  "
            ],
            "text/html": [
              "\n",
              "  <div id=\"df-ecb4f782-27fc-422c-ac80-12e008feb3b5\">\n",
              "    <div class=\"colab-df-container\">\n",
              "      <div>\n",
              "<style scoped>\n",
              "    .dataframe tbody tr th:only-of-type {\n",
              "        vertical-align: middle;\n",
              "    }\n",
              "\n",
              "    .dataframe tbody tr th {\n",
              "        vertical-align: top;\n",
              "    }\n",
              "\n",
              "    .dataframe thead th {\n",
              "        text-align: right;\n",
              "    }\n",
              "</style>\n",
              "<table border=\"1\" class=\"dataframe\">\n",
              "  <thead>\n",
              "    <tr style=\"text-align: right;\">\n",
              "      <th></th>\n",
              "      <th>Order ID</th>\n",
              "      <th>Product</th>\n",
              "      <th>Quantity Ordered</th>\n",
              "      <th>Price Each</th>\n",
              "      <th>Order Date</th>\n",
              "      <th>Purchase Address</th>\n",
              "      <th>Months</th>\n",
              "      <th>Sales</th>\n",
              "    </tr>\n",
              "  </thead>\n",
              "  <tbody>\n",
              "    <tr>\n",
              "      <th>0</th>\n",
              "      <td>248151</td>\n",
              "      <td>AA Batteries (4-pack)</td>\n",
              "      <td>4</td>\n",
              "      <td>3.84</td>\n",
              "      <td>09/17/19 14:44</td>\n",
              "      <td>380 North St, Los Angeles, CA 90001</td>\n",
              "      <td>9</td>\n",
              "      <td>15.36</td>\n",
              "    </tr>\n",
              "    <tr>\n",
              "      <th>1</th>\n",
              "      <td>248152</td>\n",
              "      <td>USB-C Charging Cable</td>\n",
              "      <td>2</td>\n",
              "      <td>11.95</td>\n",
              "      <td>09/29/19 10:19</td>\n",
              "      <td>511 8th St, Austin, TX 73301</td>\n",
              "      <td>9</td>\n",
              "      <td>23.90</td>\n",
              "    </tr>\n",
              "    <tr>\n",
              "      <th>2</th>\n",
              "      <td>248153</td>\n",
              "      <td>USB-C Charging Cable</td>\n",
              "      <td>1</td>\n",
              "      <td>11.95</td>\n",
              "      <td>09/16/19 17:48</td>\n",
              "      <td>151 Johnson St, Los Angeles, CA 90001</td>\n",
              "      <td>9</td>\n",
              "      <td>11.95</td>\n",
              "    </tr>\n",
              "    <tr>\n",
              "      <th>3</th>\n",
              "      <td>248154</td>\n",
              "      <td>27in FHD Monitor</td>\n",
              "      <td>1</td>\n",
              "      <td>149.99</td>\n",
              "      <td>09/27/19 07:52</td>\n",
              "      <td>355 Hickory St, Seattle, WA 98101</td>\n",
              "      <td>9</td>\n",
              "      <td>149.99</td>\n",
              "    </tr>\n",
              "    <tr>\n",
              "      <th>4</th>\n",
              "      <td>248155</td>\n",
              "      <td>USB-C Charging Cable</td>\n",
              "      <td>1</td>\n",
              "      <td>11.95</td>\n",
              "      <td>09/01/19 19:03</td>\n",
              "      <td>125 5th St, Atlanta, GA 30301</td>\n",
              "      <td>9</td>\n",
              "      <td>11.95</td>\n",
              "    </tr>\n",
              "  </tbody>\n",
              "</table>\n",
              "</div>\n",
              "      <button class=\"colab-df-convert\" onclick=\"convertToInteractive('df-ecb4f782-27fc-422c-ac80-12e008feb3b5')\"\n",
              "              title=\"Convert this dataframe to an interactive table.\"\n",
              "              style=\"display:none;\">\n",
              "        \n",
              "  <svg xmlns=\"http://www.w3.org/2000/svg\" height=\"24px\"viewBox=\"0 0 24 24\"\n",
              "       width=\"24px\">\n",
              "    <path d=\"M0 0h24v24H0V0z\" fill=\"none\"/>\n",
              "    <path d=\"M18.56 5.44l.94 2.06.94-2.06 2.06-.94-2.06-.94-.94-2.06-.94 2.06-2.06.94zm-11 1L8.5 8.5l.94-2.06 2.06-.94-2.06-.94L8.5 2.5l-.94 2.06-2.06.94zm10 10l.94 2.06.94-2.06 2.06-.94-2.06-.94-.94-2.06-.94 2.06-2.06.94z\"/><path d=\"M17.41 7.96l-1.37-1.37c-.4-.4-.92-.59-1.43-.59-.52 0-1.04.2-1.43.59L10.3 9.45l-7.72 7.72c-.78.78-.78 2.05 0 2.83L4 21.41c.39.39.9.59 1.41.59.51 0 1.02-.2 1.41-.59l7.78-7.78 2.81-2.81c.8-.78.8-2.07 0-2.86zM5.41 20L4 18.59l7.72-7.72 1.47 1.35L5.41 20z\"/>\n",
              "  </svg>\n",
              "      </button>\n",
              "      \n",
              "  <style>\n",
              "    .colab-df-container {\n",
              "      display:flex;\n",
              "      flex-wrap:wrap;\n",
              "      gap: 12px;\n",
              "    }\n",
              "\n",
              "    .colab-df-convert {\n",
              "      background-color: #E8F0FE;\n",
              "      border: none;\n",
              "      border-radius: 50%;\n",
              "      cursor: pointer;\n",
              "      display: none;\n",
              "      fill: #1967D2;\n",
              "      height: 32px;\n",
              "      padding: 0 0 0 0;\n",
              "      width: 32px;\n",
              "    }\n",
              "\n",
              "    .colab-df-convert:hover {\n",
              "      background-color: #E2EBFA;\n",
              "      box-shadow: 0px 1px 2px rgba(60, 64, 67, 0.3), 0px 1px 3px 1px rgba(60, 64, 67, 0.15);\n",
              "      fill: #174EA6;\n",
              "    }\n",
              "\n",
              "    [theme=dark] .colab-df-convert {\n",
              "      background-color: #3B4455;\n",
              "      fill: #D2E3FC;\n",
              "    }\n",
              "\n",
              "    [theme=dark] .colab-df-convert:hover {\n",
              "      background-color: #434B5C;\n",
              "      box-shadow: 0px 1px 3px 1px rgba(0, 0, 0, 0.15);\n",
              "      filter: drop-shadow(0px 1px 2px rgba(0, 0, 0, 0.3));\n",
              "      fill: #FFFFFF;\n",
              "    }\n",
              "  </style>\n",
              "\n",
              "      <script>\n",
              "        const buttonEl =\n",
              "          document.querySelector('#df-ecb4f782-27fc-422c-ac80-12e008feb3b5 button.colab-df-convert');\n",
              "        buttonEl.style.display =\n",
              "          google.colab.kernel.accessAllowed ? 'block' : 'none';\n",
              "\n",
              "        async function convertToInteractive(key) {\n",
              "          const element = document.querySelector('#df-ecb4f782-27fc-422c-ac80-12e008feb3b5');\n",
              "          const dataTable =\n",
              "            await google.colab.kernel.invokeFunction('convertToInteractive',\n",
              "                                                     [key], {});\n",
              "          if (!dataTable) return;\n",
              "\n",
              "          const docLinkHtml = 'Like what you see? Visit the ' +\n",
              "            '<a target=\"_blank\" href=https://colab.research.google.com/notebooks/data_table.ipynb>data table notebook</a>'\n",
              "            + ' to learn more about interactive tables.';\n",
              "          element.innerHTML = '';\n",
              "          dataTable['output_type'] = 'display_data';\n",
              "          await google.colab.output.renderOutput(dataTable, element);\n",
              "          const docLink = document.createElement('div');\n",
              "          docLink.innerHTML = docLinkHtml;\n",
              "          element.appendChild(docLink);\n",
              "        }\n",
              "      </script>\n",
              "    </div>\n",
              "  </div>\n",
              "  "
            ]
          },
          "metadata": {},
          "execution_count": 9
        }
      ],
      "source": [
        "all_months_data['Sales'] = all_months_data['Quantity Ordered']*all_months_data['Price Each']\n",
        "all_months_data.head()"
      ]
    },
    {
      "cell_type": "markdown",
      "metadata": {
        "id": "En8VOarY1r03"
      },
      "source": [
        "*For this Task we will group all the months applying the groupby function and then print the sum*"
      ]
    },
    {
      "cell_type": "code",
      "execution_count": null,
      "metadata": {
        "colab": {
          "base_uri": "https://localhost:8080/"
        },
        "id": "iZS3HRhy2JCw",
        "outputId": "fc763fe5-3fce-429f-ca2d-8bb94c0d8fd4"
      },
      "outputs": [
        {
          "output_type": "stream",
          "name": "stdout",
          "text": [
            "        Quantity Ordered  Price Each       Sales\n",
            "Months                                          \n",
            "1                  10903  1811768.38  1822256.73\n",
            "2                  13449  2188884.72  2202022.42\n",
            "3                  17005  2791207.83  2807100.38\n",
            "4                  20558  3367671.02  3390670.24\n",
            "5                  18667  3135125.13  3152606.75\n",
            "6                  15253  2562025.61  2577802.26\n",
            "7                  16072  2632539.56  2647775.76\n",
            "8                  13448  2230345.42  2244467.88\n",
            "9                  13109  2084992.09  2097560.13\n",
            "10                 22703  3715554.83  3736726.88\n",
            "11                 19798  3180600.68  3199603.20\n",
            "12                 28114  4588415.41  4613443.34\n",
            "Quantity Ordered      28114.00\n",
            "Price Each          4588415.41\n",
            "Sales               4613443.34\n",
            "dtype: float64\n",
            "\n",
            "\n",
            "\n"
          ]
        },
        {
          "output_type": "execute_result",
          "data": {
            "text/plain": [
              "Quantity Ordered      10903.00\n",
              "Price Each          1811768.38\n",
              "Sales               1822256.73\n",
              "dtype: float64"
            ]
          },
          "metadata": {},
          "execution_count": 10
        }
      ],
      "source": [
        "task1 = all_months_data.groupby('Months').sum()\n",
        "\n",
        "#finding the month in which our sales was maximum\n",
        "print(task1)\n",
        "#After saw this table we can clearly see Month 12 containing maximum no of sales\n",
        "print(task1.max())\n",
        "\n",
        "#and the worst month is January with minimum Sales\n",
        "print(\"\\n\\n\")\n",
        "task1.min()"
      ]
    },
    {
      "cell_type": "markdown",
      "metadata": {
        "id": "VmouEoJN7HHN"
      },
      "source": [
        "Ploting the graph"
      ]
    },
    {
      "cell_type": "code",
      "execution_count": null,
      "metadata": {
        "colab": {
          "base_uri": "https://localhost:8080/",
          "height": 475
        },
        "id": "ZtQYqhggScyq",
        "outputId": "39c5c0fa-1960-48c4-8f0d-73b110e31c9d"
      },
      "outputs": [
        {
          "output_type": "stream",
          "name": "stderr",
          "text": [
            "WARNING:matplotlib.legend:No handles with labels found to put in legend.\n"
          ]
        },
        {
          "output_type": "display_data",
          "data": {
            "text/plain": [
              "<Figure size 1152x504 with 1 Axes>"
            ],
            "image/png": "[encoded data removed]"
          },
          "metadata": {
            "needs_background": "light"
          }
        }
      ],
      "source": [
        "result = task1.copy()\n",
        "months = np.array(range(1,13),str)\n",
        "plt.figure(figsize=(16,7))\n",
        "plt.bar(months,result['Sales'])\n",
        "plt.xticks(months,['january','February','March','April','May','June','July',\n",
        "            'August','September','October','November','December'\n",
        "          ])\n",
        "plt.xlabel('Months Name',fontsize=15)\n",
        "plt.ylabel('Sales in USD($)',fontsize=15)\n",
        "plt.legend(loc=2)\n",
        "plt.show()"
      ]
    },
    {
      "cell_type": "markdown",
      "metadata": {
        "id": "QzBX4EbVA5U3"
      },
      "source": [
        "new task"
      ]
    },
    {
      "cell_type": "markdown",
      "metadata": {
        "id": "acGWGzJtkYse"
      },
      "source": [
        "# Taks 2 : What city had the highest number of sales?"
      ]
    },
    {
      "cell_type": "markdown",
      "metadata": {
        "id": "DKkTrteR_4jk"
      },
      "source": [
        "for this task we have add new column called CITY"
      ]
    },
    {
      "cell_type": "code",
      "execution_count": null,
      "metadata": {
        "colab": {
          "base_uri": "https://localhost:8080/",
          "height": 206
        },
        "id": "fLeGDoWXj-bN",
        "outputId": "1d98af02-5e87-46ca-8b52-03e1f3502bf6"
      },
      "outputs": [
        {
          "output_type": "execute_result",
          "data": {
            "text/plain": [
              "  Order ID                Product  Quantity Ordered  Price Each  \\\n",
              "0   248151  AA Batteries (4-pack)                 4        3.84   \n",
              "1   248152   USB-C Charging Cable                 2       11.95   \n",
              "2   248153   USB-C Charging Cable                 1       11.95   \n",
              "3   248154       27in FHD Monitor                 1      149.99   \n",
              "4   248155   USB-C Charging Cable                 1       11.95   \n",
              "\n",
              "       Order Date                       Purchase Address  Months   Sales  \\\n",
              "0  09/17/19 14:44    380 North St, Los Angeles, CA 90001       9   15.36   \n",
              "1  09/29/19 10:19           511 8th St, Austin, TX 73301       9   23.90   \n",
              "2  09/16/19 17:48  151 Johnson St, Los Angeles, CA 90001       9   11.95   \n",
              "3  09/27/19 07:52      355 Hickory St, Seattle, WA 98101       9  149.99   \n",
              "4  09/01/19 19:03          125 5th St, Atlanta, GA 30301       9   11.95   \n",
              "\n",
              "              City  \n",
              "0   Los Angeles CA  \n",
              "1        Austin TX  \n",
              "2   Los Angeles CA  \n",
              "3       Seattle WA  \n",
              "4       Atlanta GA  "
            ],
            "text/html": [
              "\n",
              "  <div id=\"df-3c49bea8-2e54-4fb5-a0c4-2140b4821c51\">\n",
              "    <div class=\"colab-df-container\">\n",
              "      <div>\n",
              "<style scoped>\n",
              "    .dataframe tbody tr th:only-of-type {\n",
              "        vertical-align: middle;\n",
              "    }\n",
              "\n",
              "    .dataframe tbody tr th {\n",
              "        vertical-align: top;\n",
              "    }\n",
              "\n",
              "    .dataframe thead th {\n",
              "        text-align: right;\n",
              "    }\n",
              "</style>\n",
              "<table border=\"1\" class=\"dataframe\">\n",
              "  <thead>\n",
              "    <tr style=\"text-align: right;\">\n",
              "      <th></th>\n",
              "      <th>Order ID</th>\n",
              "      <th>Product</th>\n",
              "      <th>Quantity Ordered</th>\n",
              "      <th>Price Each</th>\n",
              "      <th>Order Date</th>\n",
              "      <th>Purchase Address</th>\n",
              "      <th>Months</th>\n",
              "      <th>Sales</th>\n",
              "      <th>City</th>\n",
              "    </tr>\n",
              "  </thead>\n",
              "  <tbody>\n",
              "    <tr>\n",
              "      <th>0</th>\n",
              "      <td>248151</td>\n",
              "      <td>AA Batteries (4-pack)</td>\n",
              "      <td>4</td>\n",
              "      <td>3.84</td>\n",
              "      <td>09/17/19 14:44</td>\n",
              "      <td>380 North St, Los Angeles, CA 90001</td>\n",
              "      <td>9</td>\n",
              "      <td>15.36</td>\n",
              "      <td>Los Angeles CA</td>\n",
              "    </tr>\n",
              "    <tr>\n",
              "      <th>1</th>\n",
              "      <td>248152</td>\n",
              "      <td>USB-C Charging Cable</td>\n",
              "      <td>2</td>\n",
              "      <td>11.95</td>\n",
              "      <td>09/29/19 10:19</td>\n",
              "      <td>511 8th St, Austin, TX 73301</td>\n",
              "      <td>9</td>\n",
              "      <td>23.90</td>\n",
              "      <td>Austin TX</td>\n",
              "    </tr>\n",
              "    <tr>\n",
              "      <th>2</th>\n",
              "      <td>248153</td>\n",
              "      <td>USB-C Charging Cable</td>\n",
              "      <td>1</td>\n",
              "      <td>11.95</td>\n",
              "      <td>09/16/19 17:48</td>\n",
              "      <td>151 Johnson St, Los Angeles, CA 90001</td>\n",
              "      <td>9</td>\n",
              "      <td>11.95</td>\n",
              "      <td>Los Angeles CA</td>\n",
              "    </tr>\n",
              "    <tr>\n",
              "      <th>3</th>\n",
              "      <td>248154</td>\n",
              "      <td>27in FHD Monitor</td>\n",
              "      <td>1</td>\n",
              "      <td>149.99</td>\n",
              "      <td>09/27/19 07:52</td>\n",
              "      <td>355 Hickory St, Seattle, WA 98101</td>\n",
              "      <td>9</td>\n",
              "      <td>149.99</td>\n",
              "      <td>Seattle WA</td>\n",
              "    </tr>\n",
              "    <tr>\n",
              "      <th>4</th>\n",
              "      <td>248155</td>\n",
              "      <td>USB-C Charging Cable</td>\n",
              "      <td>1</td>\n",
              "      <td>11.95</td>\n",
              "      <td>09/01/19 19:03</td>\n",
              "      <td>125 5th St, Atlanta, GA 30301</td>\n",
              "      <td>9</td>\n",
              "      <td>11.95</td>\n",
              "      <td>Atlanta GA</td>\n",
              "    </tr>\n",
              "  </tbody>\n",
              "</table>\n",
              "</div>\n",
              "      <button class=\"colab-df-convert\" onclick=\"convertToInteractive('df-3c49bea8-2e54-4fb5-a0c4-2140b4821c51')\"\n",
              "              title=\"Convert this dataframe to an interactive table.\"\n",
              "              style=\"display:none;\">\n",
              "        \n",
              "  <svg xmlns=\"http://www.w3.org/2000/svg\" height=\"24px\"viewBox=\"0 0 24 24\"\n",
              "       width=\"24px\">\n",
              "    <path d=\"M0 0h24v24H0V0z\" fill=\"none\"/>\n",
              "    <path d=\"M18.56 5.44l.94 2.06.94-2.06 2.06-.94-2.06-.94-.94-2.06-.94 2.06-2.06.94zm-11 1L8.5 8.5l.94-2.06 2.06-.94-2.06-.94L8.5 2.5l-.94 2.06-2.06.94zm10 10l.94 2.06.94-2.06 2.06-.94-2.06-.94-.94-2.06-.94 2.06-2.06.94z\"/><path d=\"M17.41 7.96l-1.37-1.37c-.4-.4-.92-.59-1.43-.59-.52 0-1.04.2-1.43.59L10.3 9.45l-7.72 7.72c-.78.78-.78 2.05 0 2.83L4 21.41c.39.39.9.59 1.41.59.51 0 1.02-.2 1.41-.59l7.78-7.78 2.81-2.81c.8-.78.8-2.07 0-2.86zM5.41 20L4 18.59l7.72-7.72 1.47 1.35L5.41 20z\"/>\n",
              "  </svg>\n",
              "      </button>\n",
              "      \n",
              "  <style>\n",
              "    .colab-df-container {\n",
              "      display:flex;\n",
              "      flex-wrap:wrap;\n",
              "      gap: 12px;\n",
              "    }\n",
              "\n",
              "    .colab-df-convert {\n",
              "      background-color: #E8F0FE;\n",
              "      border: none;\n",
              "      border-radius: 50%;\n",
              "      cursor: pointer;\n",
              "      display: none;\n",
              "      fill: #1967D2;\n",
              "      height: 32px;\n",
              "      padding: 0 0 0 0;\n",
              "      width: 32px;\n",
              "    }\n",
              "\n",
              "    .colab-df-convert:hover {\n",
              "      background-color: #E2EBFA;\n",
              "      box-shadow: 0px 1px 2px rgba(60, 64, 67, 0.3), 0px 1px 3px 1px rgba(60, 64, 67, 0.15);\n",
              "      fill: #174EA6;\n",
              "    }\n",
              "\n",
              "    [theme=dark] .colab-df-convert {\n",
              "      background-color: #3B4455;\n",
              "      fill: #D2E3FC;\n",
              "    }\n",
              "\n",
              "    [theme=dark] .colab-df-convert:hover {\n",
              "      background-color: #434B5C;\n",
              "      box-shadow: 0px 1px 3px 1px rgba(0, 0, 0, 0.15);\n",
              "      filter: drop-shadow(0px 1px 2px rgba(0, 0, 0, 0.3));\n",
              "      fill: #FFFFFF;\n",
              "    }\n",
              "  </style>\n",
              "\n",
              "      <script>\n",
              "        const buttonEl =\n",
              "          document.querySelector('#df-3c49bea8-2e54-4fb5-a0c4-2140b4821c51 button.colab-df-convert');\n",
              "        buttonEl.style.display =\n",
              "          google.colab.kernel.accessAllowed ? 'block' : 'none';\n",
              "\n",
              "        async function convertToInteractive(key) {\n",
              "          const element = document.querySelector('#df-3c49bea8-2e54-4fb5-a0c4-2140b4821c51');\n",
              "          const dataTable =\n",
              "            await google.colab.kernel.invokeFunction('convertToInteractive',\n",
              "                                                     [key], {});\n",
              "          if (!dataTable) return;\n",
              "\n",
              "          const docLinkHtml = 'Like what you see? Visit the ' +\n",
              "            '<a target=\"_blank\" href=https://colab.research.google.com/notebooks/data_table.ipynb>data table notebook</a>'\n",
              "            + ' to learn more about interactive tables.';\n",
              "          element.innerHTML = '';\n",
              "          dataTable['output_type'] = 'display_data';\n",
              "          await google.colab.output.renderOutput(dataTable, element);\n",
              "          const docLink = document.createElement('div');\n",
              "          docLink.innerHTML = docLinkHtml;\n",
              "          element.appendChild(docLink);\n",
              "        }\n",
              "      </script>\n",
              "    </div>\n",
              "  </div>\n",
              "  "
            ]
          },
          "metadata": {},
          "execution_count": 12
        }
      ],
      "source": [
        "def get_city(address):\n",
        "  return address.split(',')[1]\n",
        "\n",
        "def get_state(address):\n",
        "  return address.split(',')[2].split(' ')[1]\n",
        "\n",
        "all_months_data['City'] = all_months_data['Purchase Address'].apply(lambda x: get_city(x)+ ' '+ get_state(x))\n",
        "all_months_data.head()"
      ]
    },
    {
      "cell_type": "markdown",
      "metadata": {
        "id": "riqBrLalNeu-"
      },
      "source": [
        "**For this task we have to use the group by function in city**"
      ]
    },
    {
      "cell_type": "code",
      "execution_count": null,
      "metadata": {
        "colab": {
          "base_uri": "https://localhost:8080/",
          "height": 394
        },
        "id": "9qFDvjVVNuxt",
        "outputId": "7e7113f7-39e8-44b9-a677-056399551094"
      },
      "outputs": [
        {
          "output_type": "execute_result",
          "data": {
            "text/plain": [
              "                   Quantity Ordered  Price Each  Months       Sales    Hour  \\\n",
              "City                                                                          \n",
              " Atlanta GA                   16602  2779908.20  104794  2795498.58  214264   \n",
              " Austin TX                    11153  1809873.61   69829  1819581.75  141946   \n",
              " Boston MA                    22528  3637409.77  141112  3661642.01  288225   \n",
              " Dallas TX                    16730  2752627.82  104620  2767975.40  214390   \n",
              " Los Angeles CA               33289  5421435.23  208325  5452570.80  427444   \n",
              " New York City NY             27932  4635370.83  175741  4664317.43  357696   \n",
              " Portland ME                   2750   447189.25   17144   449758.27   35211   \n",
              " Portland OR                  11303  1860558.22   70621  1870732.34  144421   \n",
              " San Francisco CA             50239  8211461.74  315520  8262203.91  643265   \n",
              " Seattle WA                   16553  2733296.01  104941  2747755.48  213292   \n",
              "\n",
              "                    Minute  \n",
              "City                        \n",
              " Atlanta GA         442932  \n",
              " Austin TX          289060  \n",
              " Boston MA          590442  \n",
              " Dallas TX          435155  \n",
              " Los Angeles CA     866638  \n",
              " New York City NY   733598  \n",
              " Portland ME         72856  \n",
              " Portland OR        295533  \n",
              " San Francisco CA  1319477  \n",
              " Seattle WA         436368  "
            ],
            "text/html": [
              "\n",
              "  <div id=\"df-88a0d0cc-b566-4aea-b05b-175add92a2c1\">\n",
              "    <div class=\"colab-df-container\">\n",
              "      <div>\n",
              "<style scoped>\n",
              "    .dataframe tbody tr th:only-of-type {\n",
              "        vertical-align: middle;\n",
              "    }\n",
              "\n",
              "    .dataframe tbody tr th {\n",
              "        vertical-align: top;\n",
              "    }\n",
              "\n",
              "    .dataframe thead th {\n",
              "        text-align: right;\n",
              "    }\n",
              "</style>\n",
              "<table border=\"1\" class=\"dataframe\">\n",
              "  <thead>\n",
              "    <tr style=\"text-align: right;\">\n",
              "      <th></th>\n",
              "      <th>Quantity Ordered</th>\n",
              "      <th>Price Each</th>\n",
              "      <th>Months</th>\n",
              "      <th>Sales</th>\n",
              "      <th>Hour</th>\n",
              "      <th>Minute</th>\n",
              "    </tr>\n",
              "    <tr>\n",
              "      <th>City</th>\n",
              "      <th></th>\n",
              "      <th></th>\n",
              "      <th></th>\n",
              "      <th></th>\n",
              "      <th></th>\n",
              "      <th></th>\n",
              "    </tr>\n",
              "  </thead>\n",
              "  <tbody>\n",
              "    <tr>\n",
              "      <th>Atlanta GA</th>\n",
              "      <td>16602</td>\n",
              "      <td>2779908.20</td>\n",
              "      <td>104794</td>\n",
              "      <td>2795498.58</td>\n",
              "      <td>214264</td>\n",
              "      <td>442932</td>\n",
              "    </tr>\n",
              "    <tr>\n",
              "      <th>Austin TX</th>\n",
              "      <td>11153</td>\n",
              "      <td>1809873.61</td>\n",
              "      <td>69829</td>\n",
              "      <td>1819581.75</td>\n",
              "      <td>141946</td>\n",
              "      <td>289060</td>\n",
              "    </tr>\n",
              "    <tr>\n",
              "      <th>Boston MA</th>\n",
              "      <td>22528</td>\n",
              "      <td>3637409.77</td>\n",
              "      <td>141112</td>\n",
              "      <td>3661642.01</td>\n",
              "      <td>288225</td>\n",
              "      <td>590442</td>\n",
              "    </tr>\n",
              "    <tr>\n",
              "      <th>Dallas TX</th>\n",
              "      <td>16730</td>\n",
              "      <td>2752627.82</td>\n",
              "      <td>104620</td>\n",
              "      <td>2767975.40</td>\n",
              "      <td>214390</td>\n",
              "      <td>435155</td>\n",
              "    </tr>\n",
              "    <tr>\n",
              "      <th>Los Angeles CA</th>\n",
              "      <td>33289</td>\n",
              "      <td>5421435.23</td>\n",
              "      <td>208325</td>\n",
              "      <td>5452570.80</td>\n",
              "      <td>427444</td>\n",
              "      <td>866638</td>\n",
              "    </tr>\n",
              "    <tr>\n",
              "      <th>New York City NY</th>\n",
              "      <td>27932</td>\n",
              "      <td>4635370.83</td>\n",
              "      <td>175741</td>\n",
              "      <td>4664317.43</td>\n",
              "      <td>357696</td>\n",
              "      <td>733598</td>\n",
              "    </tr>\n",
              "    <tr>\n",
              "      <th>Portland ME</th>\n",
              "      <td>2750</td>\n",
              "      <td>447189.25</td>\n",
              "      <td>17144</td>\n",
              "      <td>449758.27</td>\n",
              "      <td>35211</td>\n",
              "      <td>72856</td>\n",
              "    </tr>\n",
              "    <tr>\n",
              "      <th>Portland OR</th>\n",
              "      <td>11303</td>\n",
              "      <td>1860558.22</td>\n",
              "      <td>70621</td>\n",
              "      <td>1870732.34</td>\n",
              "      <td>144421</td>\n",
              "      <td>295533</td>\n",
              "    </tr>\n",
              "    <tr>\n",
              "      <th>San Francisco CA</th>\n",
              "      <td>50239</td>\n",
              "      <td>8211461.74</td>\n",
              "      <td>315520</td>\n",
              "      <td>8262203.91</td>\n",
              "      <td>643265</td>\n",
              "      <td>1319477</td>\n",
              "    </tr>\n",
              "    <tr>\n",
              "      <th>Seattle WA</th>\n",
              "      <td>16553</td>\n",
              "      <td>2733296.01</td>\n",
              "      <td>104941</td>\n",
              "      <td>2747755.48</td>\n",
              "      <td>213292</td>\n",
              "      <td>436368</td>\n",
              "    </tr>\n",
              "  </tbody>\n",
              "</table>\n",
              "</div>\n",
              "      <button class=\"colab-df-convert\" onclick=\"convertToInteractive('df-88a0d0cc-b566-4aea-b05b-175add92a2c1')\"\n",
              "              title=\"Convert this dataframe to an interactive table.\"\n",
              "              style=\"display:none;\">\n",
              "        \n",
              "  <svg xmlns=\"http://www.w3.org/2000/svg\" height=\"24px\"viewBox=\"0 0 24 24\"\n",
              "       width=\"24px\">\n",
              "    <path d=\"M0 0h24v24H0V0z\" fill=\"none\"/>\n",
              "    <path d=\"M18.56 5.44l.94 2.06.94-2.06 2.06-.94-2.06-.94-.94-2.06-.94 2.06-2.06.94zm-11 1L8.5 8.5l.94-2.06 2.06-.94-2.06-.94L8.5 2.5l-.94 2.06-2.06.94zm10 10l.94 2.06.94-2.06 2.06-.94-2.06-.94-.94-2.06-.94 2.06-2.06.94z\"/><path d=\"M17.41 7.96l-1.37-1.37c-.4-.4-.92-.59-1.43-.59-.52 0-1.04.2-1.43.59L10.3 9.45l-7.72 7.72c-.78.78-.78 2.05 0 2.83L4 21.41c.39.39.9.59 1.41.59.51 0 1.02-.2 1.41-.59l7.78-7.78 2.81-2.81c.8-.78.8-2.07 0-2.86zM5.41 20L4 18.59l7.72-7.72 1.47 1.35L5.41 20z\"/>\n",
              "  </svg>\n",
              "      </button>\n",
              "      \n",
              "  <style>\n",
              "    .colab-df-container {\n",
              "      display:flex;\n",
              "      flex-wrap:wrap;\n",
              "      gap: 12px;\n",
              "    }\n",
              "\n",
              "    .colab-df-convert {\n",
              "      background-color: #E8F0FE;\n",
              "      border: none;\n",
              "      border-radius: 50%;\n",
              "      cursor: pointer;\n",
              "      display: none;\n",
              "      fill: #1967D2;\n",
              "      height: 32px;\n",
              "      padding: 0 0 0 0;\n",
              "      width: 32px;\n",
              "    }\n",
              "\n",
              "    .colab-df-convert:hover {\n",
              "      background-color: #E2EBFA;\n",
              "      box-shadow: 0px 1px 2px rgba(60, 64, 67, 0.3), 0px 1px 3px 1px rgba(60, 64, 67, 0.15);\n",
              "      fill: #174EA6;\n",
              "    }\n",
              "\n",
              "    [theme=dark] .colab-df-convert {\n",
              "      background-color: #3B4455;\n",
              "      fill: #D2E3FC;\n",
              "    }\n",
              "\n",
              "    [theme=dark] .colab-df-convert:hover {\n",
              "      background-color: #434B5C;\n",
              "      box-shadow: 0px 1px 3px 1px rgba(0, 0, 0, 0.15);\n",
              "      filter: drop-shadow(0px 1px 2px rgba(0, 0, 0, 0.3));\n",
              "      fill: #FFFFFF;\n",
              "    }\n",
              "  </style>\n",
              "\n",
              "      <script>\n",
              "        const buttonEl =\n",
              "          document.querySelector('#df-88a0d0cc-b566-4aea-b05b-175add92a2c1 button.colab-df-convert');\n",
              "        buttonEl.style.display =\n",
              "          google.colab.kernel.accessAllowed ? 'block' : 'none';\n",
              "\n",
              "        async function convertToInteractive(key) {\n",
              "          const element = document.querySelector('#df-88a0d0cc-b566-4aea-b05b-175add92a2c1');\n",
              "          const dataTable =\n",
              "            await google.colab.kernel.invokeFunction('convertToInteractive',\n",
              "                                                     [key], {});\n",
              "          if (!dataTable) return;\n",
              "\n",
              "          const docLinkHtml = 'Like what you see? Visit the ' +\n",
              "            '<a target=\"_blank\" href=https://colab.research.google.com/notebooks/data_table.ipynb>data table notebook</a>'\n",
              "            + ' to learn more about interactive tables.';\n",
              "          element.innerHTML = '';\n",
              "          dataTable['output_type'] = 'display_data';\n",
              "          await google.colab.output.renderOutput(dataTable, element);\n",
              "          const docLink = document.createElement('div');\n",
              "          docLink.innerHTML = docLinkHtml;\n",
              "          element.appendChild(docLink);\n",
              "        }\n",
              "      </script>\n",
              "    </div>\n",
              "  </div>\n",
              "  "
            ]
          },
          "metadata": {},
          "execution_count": 20
        }
      ],
      "source": [
        "temp_df1 = all_months_data.groupby('City').sum().copy()\n",
        "temp_df1"
      ]
    },
    {
      "cell_type": "code",
      "execution_count": null,
      "metadata": {
        "colab": {
          "base_uri": "https://localhost:8080/",
          "height": 695
        },
        "id": "diPjv1v9Opt8",
        "outputId": "56fff03a-79ea-409e-cda3-b866e57a11c6"
      },
      "outputs": [
        {
          "output_type": "display_data",
          "data": {
            "text/plain": [
              "<Figure size 1152x648 with 1 Axes>"
            ],
            "image/png": "[encoded data removed]"
          },
          "metadata": {}
        }
      ],
      "source": [
        "#we should also plot this data in barchart\n",
        "plt.figure(figsize=(16,9))\n",
        "x = [ city for city , df in all_months_data.groupby('City')]\n",
        "plt.bar(x,temp_df1['Sales'],color = 'm',width=0.5)\n",
        "\n",
        "plt.xticks(rotation = 'vertical' , size=15)\n",
        "plt.xlabel('City Name',fontsize=20)\n",
        "plt.ylabel('Sales in USD($)',fontsize=20)\n",
        "plt.show()"
      ]
    },
    {
      "cell_type": "markdown",
      "metadata": {
        "id": "yISw-RZrA1_E"
      },
      "source": [
        "new task"
      ]
    },
    {
      "cell_type": "markdown",
      "metadata": {
        "id": "LKFSaJH0YNyk"
      },
      "source": [
        "# Task3:  What time should we display advertisement to maximize likehood of customer's buying Product?"
      ]
    },
    {
      "cell_type": "code",
      "execution_count": null,
      "metadata": {
        "colab": {
          "base_uri": "https://localhost:8080/",
          "height": 206
        },
        "id": "r76No6wc7xa5",
        "outputId": "46e472c0-73fa-4821-d40d-cf96c65bfec7"
      },
      "outputs": [
        {
          "output_type": "execute_result",
          "data": {
            "text/plain": [
              "  Order ID                Product  Quantity Ordered  Price Each  \\\n",
              "0   248151  AA Batteries (4-pack)                 4        3.84   \n",
              "1   248152   USB-C Charging Cable                 2       11.95   \n",
              "2   248153   USB-C Charging Cable                 1       11.95   \n",
              "3   248154       27in FHD Monitor                 1      149.99   \n",
              "4   248155   USB-C Charging Cable                 1       11.95   \n",
              "\n",
              "           Order Date                       Purchase Address  Months   Sales  \\\n",
              "0 2019-09-17 14:44:00    380 North St, Los Angeles, CA 90001       9   15.36   \n",
              "1 2019-09-29 10:19:00           511 8th St, Austin, TX 73301       9   23.90   \n",
              "2 2019-09-16 17:48:00  151 Johnson St, Los Angeles, CA 90001       9   11.95   \n",
              "3 2019-09-27 07:52:00      355 Hickory St, Seattle, WA 98101       9  149.99   \n",
              "4 2019-09-01 19:03:00          125 5th St, Atlanta, GA 30301       9   11.95   \n",
              "\n",
              "              City  Hour  Minute  \n",
              "0   Los Angeles CA    14      44  \n",
              "1        Austin TX    10      19  \n",
              "2   Los Angeles CA    17      48  \n",
              "3       Seattle WA     7      52  \n",
              "4       Atlanta GA    19       3  "
            ],
            "text/html": [
              "\n",
              "  <div id=\"df-9cf4bbf0-c2da-42fe-bc50-78be3e3bbe30\">\n",
              "    <div class=\"colab-df-container\">\n",
              "      <div>\n",
              "<style scoped>\n",
              "    .dataframe tbody tr th:only-of-type {\n",
              "        vertical-align: middle;\n",
              "    }\n",
              "\n",
              "    .dataframe tbody tr th {\n",
              "        vertical-align: top;\n",
              "    }\n",
              "\n",
              "    .dataframe thead th {\n",
              "        text-align: right;\n",
              "    }\n",
              "</style>\n",
              "<table border=\"1\" class=\"dataframe\">\n",
              "  <thead>\n",
              "    <tr style=\"text-align: right;\">\n",
              "      <th></th>\n",
              "      <th>Order ID</th>\n",
              "      <th>Product</th>\n",
              "      <th>Quantity Ordered</th>\n",
              "      <th>Price Each</th>\n",
              "      <th>Order Date</th>\n",
              "      <th>Purchase Address</th>\n",
              "      <th>Months</th>\n",
              "      <th>Sales</th>\n",
              "      <th>City</th>\n",
              "      <th>Hour</th>\n",
              "      <th>Minute</th>\n",
              "    </tr>\n",
              "  </thead>\n",
              "  <tbody>\n",
              "    <tr>\n",
              "      <th>0</th>\n",
              "      <td>248151</td>\n",
              "      <td>AA Batteries (4-pack)</td>\n",
              "      <td>4</td>\n",
              "      <td>3.84</td>\n",
              "      <td>2019-09-17 14:44:00</td>\n",
              "      <td>380 North St, Los Angeles, CA 90001</td>\n",
              "      <td>9</td>\n",
              "      <td>15.36</td>\n",
              "      <td>Los Angeles CA</td>\n",
              "      <td>14</td>\n",
              "      <td>44</td>\n",
              "    </tr>\n",
              "    <tr>\n",
              "      <th>1</th>\n",
              "      <td>248152</td>\n",
              "      <td>USB-C Charging Cable</td>\n",
              "      <td>2</td>\n",
              "      <td>11.95</td>\n",
              "      <td>2019-09-29 10:19:00</td>\n",
              "      <td>511 8th St, Austin, TX 73301</td>\n",
              "      <td>9</td>\n",
              "      <td>23.90</td>\n",
              "      <td>Austin TX</td>\n",
              "      <td>10</td>\n",
              "      <td>19</td>\n",
              "    </tr>\n",
              "    <tr>\n",
              "      <th>2</th>\n",
              "      <td>248153</td>\n",
              "      <td>USB-C Charging Cable</td>\n",
              "      <td>1</td>\n",
              "      <td>11.95</td>\n",
              "      <td>2019-09-16 17:48:00</td>\n",
              "      <td>151 Johnson St, Los Angeles, CA 90001</td>\n",
              "      <td>9</td>\n",
              "      <td>11.95</td>\n",
              "      <td>Los Angeles CA</td>\n",
              "      <td>17</td>\n",
              "      <td>48</td>\n",
              "    </tr>\n",
              "    <tr>\n",
              "      <th>3</th>\n",
              "      <td>248154</td>\n",
              "      <td>27in FHD Monitor</td>\n",
              "      <td>1</td>\n",
              "      <td>149.99</td>\n",
              "      <td>2019-09-27 07:52:00</td>\n",
              "      <td>355 Hickory St, Seattle, WA 98101</td>\n",
              "      <td>9</td>\n",
              "      <td>149.99</td>\n",
              "      <td>Seattle WA</td>\n",
              "      <td>7</td>\n",
              "      <td>52</td>\n",
              "    </tr>\n",
              "    <tr>\n",
              "      <th>4</th>\n",
              "      <td>248155</td>\n",
              "      <td>USB-C Charging Cable</td>\n",
              "      <td>1</td>\n",
              "      <td>11.95</td>\n",
              "      <td>2019-09-01 19:03:00</td>\n",
              "      <td>125 5th St, Atlanta, GA 30301</td>\n",
              "      <td>9</td>\n",
              "      <td>11.95</td>\n",
              "      <td>Atlanta GA</td>\n",
              "      <td>19</td>\n",
              "      <td>3</td>\n",
              "    </tr>\n",
              "  </tbody>\n",
              "</table>\n",
              "</div>\n",
              "      <button class=\"colab-df-convert\" onclick=\"convertToInteractive('df-9cf4bbf0-c2da-42fe-bc50-78be3e3bbe30')\"\n",
              "              title=\"Convert this dataframe to an interactive table.\"\n",
              "              style=\"display:none;\">\n",
              "        \n",
              "  <svg xmlns=\"http://www.w3.org/2000/svg\" height=\"24px\"viewBox=\"0 0 24 24\"\n",
              "       width=\"24px\">\n",
              "    <path d=\"M0 0h24v24H0V0z\" fill=\"none\"/>\n",
              "    <path d=\"M18.56 5.44l.94 2.06.94-2.06 2.06-.94-2.06-.94-.94-2.06-.94 2.06-2.06.94zm-11 1L8.5 8.5l.94-2.06 2.06-.94-2.06-.94L8.5 2.5l-.94 2.06-2.06.94zm10 10l.94 2.06.94-2.06 2.06-.94-2.06-.94-.94-2.06-.94 2.06-2.06.94z\"/><path d=\"M17.41 7.96l-1.37-1.37c-.4-.4-.92-.59-1.43-.59-.52 0-1.04.2-1.43.59L10.3 9.45l-7.72 7.72c-.78.78-.78 2.05 0 2.83L4 21.41c.39.39.9.59 1.41.59.51 0 1.02-.2 1.41-.59l7.78-7.78 2.81-2.81c.8-.78.8-2.07 0-2.86zM5.41 20L4 18.59l7.72-7.72 1.47 1.35L5.41 20z\"/>\n",
              "  </svg>\n",
              "      </button>\n",
              "      \n",
              "  <style>\n",
              "    .colab-df-container {\n",
              "      display:flex;\n",
              "      flex-wrap:wrap;\n",
              "      gap: 12px;\n",
              "    }\n",
              "\n",
              "    .colab-df-convert {\n",
              "      background-color: #E8F0FE;\n",
              "      border: none;\n",
              "      border-radius: 50%;\n",
              "      cursor: pointer;\n",
              "      display: none;\n",
              "      fill: #1967D2;\n",
              "      height: 32px;\n",
              "      padding: 0 0 0 0;\n",
              "      width: 32px;\n",
              "    }\n",
              "\n",
              "    .colab-df-convert:hover {\n",
              "      background-color: #E2EBFA;\n",
              "      box-shadow: 0px 1px 2px rgba(60, 64, 67, 0.3), 0px 1px 3px 1px rgba(60, 64, 67, 0.15);\n",
              "      fill: #174EA6;\n",
              "    }\n",
              "\n",
              "    [theme=dark] .colab-df-convert {\n",
              "      background-color: #3B4455;\n",
              "      fill: #D2E3FC;\n",
              "    }\n",
              "\n",
              "    [theme=dark] .colab-df-convert:hover {\n",
              "      background-color: #434B5C;\n",
              "      box-shadow: 0px 1px 3px 1px rgba(0, 0, 0, 0.15);\n",
              "      filter: drop-shadow(0px 1px 2px rgba(0, 0, 0, 0.3));\n",
              "      fill: #FFFFFF;\n",
              "    }\n",
              "  </style>\n",
              "\n",
              "      <script>\n",
              "        const buttonEl =\n",
              "          document.querySelector('#df-9cf4bbf0-c2da-42fe-bc50-78be3e3bbe30 button.colab-df-convert');\n",
              "        buttonEl.style.display =\n",
              "          google.colab.kernel.accessAllowed ? 'block' : 'none';\n",
              "\n",
              "        async function convertToInteractive(key) {\n",
              "          const element = document.querySelector('#df-9cf4bbf0-c2da-42fe-bc50-78be3e3bbe30');\n",
              "          const dataTable =\n",
              "            await google.colab.kernel.invokeFunction('convertToInteractive',\n",
              "                                                     [key], {});\n",
              "          if (!dataTable) return;\n",
              "\n",
              "          const docLinkHtml = 'Like what you see? Visit the ' +\n",
              "            '<a target=\"_blank\" href=https://colab.research.google.com/notebooks/data_table.ipynb>data table notebook</a>'\n",
              "            + ' to learn more about interactive tables.';\n",
              "          element.innerHTML = '';\n",
              "          dataTable['output_type'] = 'display_data';\n",
              "          await google.colab.output.renderOutput(dataTable, element);\n",
              "          const docLink = document.createElement('div');\n",
              "          docLink.innerHTML = docLinkHtml;\n",
              "          element.appendChild(docLink);\n",
              "        }\n",
              "      </script>\n",
              "    </div>\n",
              "  </div>\n",
              "  "
            ]
          },
          "metadata": {},
          "execution_count": 14
        }
      ],
      "source": [
        "all_months_data['Order Date'] = all_months_data['Order Date'].apply(pd.to_datetime)\n",
        "\n",
        "#adding new hour and minute columns\n",
        "all_months_data['Hour'] = all_months_data['Order Date'].dt.hour\n",
        "all_months_data['Minute']= all_months_data['Order Date'].dt.minute\n",
        "\n",
        "all_months_data.head()"
      ]
    },
    {
      "cell_type": "code",
      "execution_count": null,
      "metadata": {
        "colab": {
          "base_uri": "https://localhost:8080/",
          "height": 452
        },
        "id": "tmmib-U8pXHj",
        "outputId": "65b7aa11-5e5e-47a9-c825-c5c4b3d42b50"
      },
      "outputs": [
        {
          "output_type": "display_data",
          "data": {
            "text/plain": [
              "<Figure size 1152x504 with 1 Axes>"
            ],
            "image/png": "[encoded data removed]"
          },
          "metadata": {}
        }
      ],
      "source": [
        "hour = [hour for  hour , df in all_months_data.groupby('Hour')]\n",
        "\n",
        "plt.style.use('ggplot')\n",
        "plt.figure(figsize=(16,7))\n",
        "plt.plot(hour,all_months_data.groupby('Hour').count(),color='r')\n",
        "plt.xticks(hour,fontsize=15)\n",
        "plt.ylabel('Frequency of perticular Hour',fontsize=10)\n",
        "plt.xlabel('Hour',fontsize=15)\n",
        "plt.grid(linestyle='-',linewidth=3,color='k')\n",
        "plt.show()"
      ]
    },
    {
      "cell_type": "markdown",
      "metadata": {
        "id": "WOTA_rM2vEj0"
      },
      "source": [
        "so we can  say 11 am and 6 - 7 pm is good time advertisemnt"
      ]
    },
    {
      "cell_type": "code",
      "execution_count": null,
      "metadata": {
        "colab": {
          "background_save": true
        },
        "id": "CDzMO4xGvLx2"
      },
      "outputs": [],
      "source": []
    },
    {
      "cell_type": "markdown",
      "metadata": {
        "id": "a_9JKvcvvSc0"
      },
      "source": [
        "# Task 4:  **What Products are most often sold together ?**"
      ]
    },
    {
      "cell_type": "markdown",
      "metadata": {
        "id": "mCO83kIuv8Kc"
      },
      "source": [
        "for that we have to look thier order id"
      ]
    },
    {
      "cell_type": "code",
      "execution_count": null,
      "metadata": {
        "colab": {
          "base_uri": "https://localhost:8080/",
          "height": 310
        },
        "id": "ZQrmmP7mviqr",
        "outputId": "a38653df-b266-430d-bc78-e4c4927df239"
      },
      "outputs": [
        {
          "output_type": "stream",
          "name": "stderr",
          "text": [
            "/usr/local/lib/python3.7/dist-packages/ipykernel_launcher.py:4: SettingWithCopyWarning: \n",
            "A value is trying to be set on a copy of a slice from a DataFrame.\n",
            "Try using .loc[row_indexer,col_indexer] = value instead\n",
            "\n",
            "See the caveats in the documentation: https://pandas.pydata.org/pandas-docs/stable/user_guide/indexing.html#returning-a-view-versus-a-copy\n",
            "  after removing the cwd from sys.path.\n"
          ]
        },
        {
          "output_type": "execute_result",
          "data": {
            "text/plain": [
              "    Order ID                               Items Grouped\n",
              "20    248171   USB-C Charging Cable,USB-C Charging Cable\n",
              "60    248210             iPhone,Lightning Charging Cable\n",
              "70    248219     Bose SoundSport Headphones,Google Phone\n",
              "117   248265  Vareebadd Phone,Bose SoundSport Headphones\n",
              "176   248323     Google Phone,Bose SoundSport Headphones"
            ],
            "text/html": [
              "\n",
              "  <div id=\"df-80579f41-1fc6-4f75-95e7-434d0e013bba\">\n",
              "    <div class=\"colab-df-container\">\n",
              "      <div>\n",
              "<style scoped>\n",
              "    .dataframe tbody tr th:only-of-type {\n",
              "        vertical-align: middle;\n",
              "    }\n",
              "\n",
              "    .dataframe tbody tr th {\n",
              "        vertical-align: top;\n",
              "    }\n",
              "\n",
              "    .dataframe thead th {\n",
              "        text-align: right;\n",
              "    }\n",
              "</style>\n",
              "<table border=\"1\" class=\"dataframe\">\n",
              "  <thead>\n",
              "    <tr style=\"text-align: right;\">\n",
              "      <th></th>\n",
              "      <th>Order ID</th>\n",
              "      <th>Items Grouped</th>\n",
              "    </tr>\n",
              "  </thead>\n",
              "  <tbody>\n",
              "    <tr>\n",
              "      <th>20</th>\n",
              "      <td>248171</td>\n",
              "      <td>USB-C Charging Cable,USB-C Charging Cable</td>\n",
              "    </tr>\n",
              "    <tr>\n",
              "      <th>60</th>\n",
              "      <td>248210</td>\n",
              "      <td>iPhone,Lightning Charging Cable</td>\n",
              "    </tr>\n",
              "    <tr>\n",
              "      <th>70</th>\n",
              "      <td>248219</td>\n",
              "      <td>Bose SoundSport Headphones,Google Phone</td>\n",
              "    </tr>\n",
              "    <tr>\n",
              "      <th>117</th>\n",
              "      <td>248265</td>\n",
              "      <td>Vareebadd Phone,Bose SoundSport Headphones</td>\n",
              "    </tr>\n",
              "    <tr>\n",
              "      <th>176</th>\n",
              "      <td>248323</td>\n",
              "      <td>Google Phone,Bose SoundSport Headphones</td>\n",
              "    </tr>\n",
              "  </tbody>\n",
              "</table>\n",
              "</div>\n",
              "      <button class=\"colab-df-convert\" onclick=\"convertToInteractive('df-80579f41-1fc6-4f75-95e7-434d0e013bba')\"\n",
              "              title=\"Convert this dataframe to an interactive table.\"\n",
              "              style=\"display:none;\">\n",
              "        \n",
              "  <svg xmlns=\"http://www.w3.org/2000/svg\" height=\"24px\"viewBox=\"0 0 24 24\"\n",
              "       width=\"24px\">\n",
              "    <path d=\"M0 0h24v24H0V0z\" fill=\"none\"/>\n",
              "    <path d=\"M18.56 5.44l.94 2.06.94-2.06 2.06-.94-2.06-.94-.94-2.06-.94 2.06-2.06.94zm-11 1L8.5 8.5l.94-2.06 2.06-.94-2.06-.94L8.5 2.5l-.94 2.06-2.06.94zm10 10l.94 2.06.94-2.06 2.06-.94-2.06-.94-.94-2.06-.94 2.06-2.06.94z\"/><path d=\"M17.41 7.96l-1.37-1.37c-.4-.4-.92-.59-1.43-.59-.52 0-1.04.2-1.43.59L10.3 9.45l-7.72 7.72c-.78.78-.78 2.05 0 2.83L4 21.41c.39.39.9.59 1.41.59.51 0 1.02-.2 1.41-.59l7.78-7.78 2.81-2.81c.8-.78.8-2.07 0-2.86zM5.41 20L4 18.59l7.72-7.72 1.47 1.35L5.41 20z\"/>\n",
              "  </svg>\n",
              "      </button>\n",
              "      \n",
              "  <style>\n",
              "    .colab-df-container {\n",
              "      display:flex;\n",
              "      flex-wrap:wrap;\n",
              "      gap: 12px;\n",
              "    }\n",
              "\n",
              "    .colab-df-convert {\n",
              "      background-color: #E8F0FE;\n",
              "      border: none;\n",
              "      border-radius: 50%;\n",
              "      cursor: pointer;\n",
              "      display: none;\n",
              "      fill: #1967D2;\n",
              "      height: 32px;\n",
              "      padding: 0 0 0 0;\n",
              "      width: 32px;\n",
              "    }\n",
              "\n",
              "    .colab-df-convert:hover {\n",
              "      background-color: #E2EBFA;\n",
              "      box-shadow: 0px 1px 2px rgba(60, 64, 67, 0.3), 0px 1px 3px 1px rgba(60, 64, 67, 0.15);\n",
              "      fill: #174EA6;\n",
              "    }\n",
              "\n",
              "    [theme=dark] .colab-df-convert {\n",
              "      background-color: #3B4455;\n",
              "      fill: #D2E3FC;\n",
              "    }\n",
              "\n",
              "    [theme=dark] .colab-df-convert:hover {\n",
              "      background-color: #434B5C;\n",
              "      box-shadow: 0px 1px 3px 1px rgba(0, 0, 0, 0.15);\n",
              "      filter: drop-shadow(0px 1px 2px rgba(0, 0, 0, 0.3));\n",
              "      fill: #FFFFFF;\n",
              "    }\n",
              "  </style>\n",
              "\n",
              "      <script>\n",
              "        const buttonEl =\n",
              "          document.querySelector('#df-80579f41-1fc6-4f75-95e7-434d0e013bba button.colab-df-convert');\n",
              "        buttonEl.style.display =\n",
              "          google.colab.kernel.accessAllowed ? 'block' : 'none';\n",
              "\n",
              "        async function convertToInteractive(key) {\n",
              "          const element = document.querySelector('#df-80579f41-1fc6-4f75-95e7-434d0e013bba');\n",
              "          const dataTable =\n",
              "            await google.colab.kernel.invokeFunction('convertToInteractive',\n",
              "                                                     [key], {});\n",
              "          if (!dataTable) return;\n",
              "\n",
              "          const docLinkHtml = 'Like what you see? Visit the ' +\n",
              "            '<a target=\"_blank\" href=https://colab.research.google.com/notebooks/data_table.ipynb>data table notebook</a>'\n",
              "            + ' to learn more about interactive tables.';\n",
              "          element.innerHTML = '';\n",
              "          dataTable['output_type'] = 'display_data';\n",
              "          await google.colab.output.renderOutput(dataTable, element);\n",
              "          const docLink = document.createElement('div');\n",
              "          docLink.innerHTML = docLinkHtml;\n",
              "          element.appendChild(docLink);\n",
              "        }\n",
              "      </script>\n",
              "    </div>\n",
              "  </div>\n",
              "  "
            ]
          },
          "metadata": {},
          "execution_count": 16
        }
      ],
      "source": [
        "temp_df = all_months_data[all_months_data['Order ID'].duplicated(keep=False)]\n",
        "temp_df\n",
        "\n",
        "temp_df['Items Grouped'] = temp_df.groupby('Order ID')['Product'].transform(lambda x : ','.join(x))\n",
        "temp_df.head()\n",
        "temp_df = temp_df[['Order ID','Items Grouped']].drop_duplicates()\n",
        "\n",
        "temp_df.head()"
      ]
    },
    {
      "cell_type": "markdown",
      "metadata": {
        "id": "OZ7r8EDUzHmf"
      },
      "source": [
        "#importing importance libraries"
      ]
    },
    {
      "cell_type": "code",
      "execution_count": null,
      "metadata": {
        "colab": {
          "base_uri": "https://localhost:8080/"
        },
        "id": "j_QgUfv5zGFw",
        "outputId": "7a64c196-f510-4383-b2de-f49c4f6dc546"
      },
      "outputs": [
        {
          "output_type": "stream",
          "name": "stdout",
          "text": [
            "('iPhone', 'Lightning Charging Cable') 1005\n",
            "('Google Phone', 'USB-C Charging Cable') 987\n",
            "('iPhone', 'Wired Headphones') 447\n",
            "('Google Phone', 'Wired Headphones') 414\n",
            "('Vareebadd Phone', 'USB-C Charging Cable') 361\n",
            "('iPhone', 'Apple Airpods Headphones') 360\n",
            "('Google Phone', 'Bose SoundSport Headphones') 220\n",
            "('USB-C Charging Cable', 'Wired Headphones') 160\n",
            "('Vareebadd Phone', 'Wired Headphones') 143\n",
            "('Lightning Charging Cable', 'Wired Headphones') 92\n"
          ]
        }
      ],
      "source": [
        "from itertools import combinations\n",
        "from collections import Counter\n",
        "\n",
        "\n",
        "count = Counter()\n",
        "\n",
        "for row  in temp_df['Items Grouped']:\n",
        "  row_list = row.split(',')\n",
        "  count.update(Counter(combinations(row_list,2)))\n",
        "\n",
        "for key , value in count.most_common(10):\n",
        "  print(key,value)"
      ]
    },
    {
      "cell_type": "markdown",
      "metadata": {
        "id": "E_FGWB842CY1"
      },
      "source": [
        "#Task 5 **What Product of most soled ? why do you think it sold the most?**"
      ]
    },
    {
      "cell_type": "code",
      "execution_count": null,
      "metadata": {
        "colab": {
          "base_uri": "https://localhost:8080/",
          "height": 779
        },
        "id": "l6DAviK72PF3",
        "outputId": "0609b3df-cbf1-4ca6-d50c-b23931bed2c4"
      },
      "outputs": [
        {
          "output_type": "display_data",
          "data": {
            "text/plain": [
              "<Figure size 1152x648 with 1 Axes>"
            ],
            "image/png": "[encoded data removed]"
          },
          "metadata": {}
        }
      ],
      "source": [
        "product_groups = all_months_data.groupby('Product')\n",
        "quantity_Number = product_groups.sum()['Quantity Ordered']\n",
        "products = [product for product , df in product_groups]\n",
        "\n",
        "plt.figure(figsize=(16,9))\n",
        "plt.bar(products,quantity_Number,color='r')\n",
        "plt.xticks(rotation='vertical',size=15)\n",
        "plt.xlabel('Products Name',fontsize=20)\n",
        "plt.ylabel('Quantity Numbers',fontsize=20)\n",
        "plt.show()\n",
        "\n",
        "\n"
      ]
    },
    {
      "cell_type": "code",
      "execution_count": null,
      "metadata": {
        "colab": {
          "base_uri": "https://localhost:8080/",
          "height": 768
        },
        "id": "2txtDZME229P",
        "outputId": "65671458-3e32-4883-fa03-af3e3dbf4ae0"
      },
      "outputs": [
        {
          "output_type": "display_data",
          "data": {
            "text/plain": [
              "<Figure size 1440x720 with 0 Axes>"
            ]
          },
          "metadata": {}
        },
        {
          "output_type": "display_data",
          "data": {
            "text/plain": [
              "<Figure size 1440x720 with 2 Axes>"
            ],
            "image/png": "[encoded data removed]"
          },
          "metadata": {}
        }
      ],
      "source": [
        "prices = all_months_data.groupby('Product').mean()['Price Each']\n",
        "\n",
        "plt.style.use('ggplot')\n",
        "plt.figure(figsize=(20,10))\n",
        "fig = plt.figure(figsize=(20,10))\n",
        "ax1 = fig.add_subplot()\n",
        "\n",
        "ax2  = ax1.twinx()\n",
        "ax1.bar(products,quantity_Number,color='m',label='Quantity Number of Products')\n",
        "ax2.plot(products,prices,color='r',label='prices Of Products')\n",
        "\n",
        "ax1.set_xlabel('Products Name',fontsize=15)\n",
        "ax1.set_ylabel('Quantity Number',fontsize=15)\n",
        "ax2.set_ylabel('Price (in USD $)',fontsize=15)\n",
        "ax1.set_xticklabels(products,rotation='vertical',fontsize=10)\n",
        "plt.legend(loc=0)\n",
        "plt.grid(linestyle = '-',linewidth=1,color='k')\n",
        "plt.show()"
      ]
    },
    {
      "cell_type": "markdown",
      "metadata": {
        "id": "w-Yqa9K7-Vcq"
      },
      "source": [
        "we can analysis that how quantity of products corelate tha prices of products , if Quantity of Products is high the Prices of perticular products is low but in case of the of latpop it's inconsistance becuase of their need is very high."
      ]
    }
  ],
  "metadata": {
    "colab": {
      "provenance": []
    },
    "kernelspec": {
      "display_name": "Python 3",
      "name": "python3"
    },
    "language_info": {
      "name": "python"
    }
  },
  "nbformat": 4,
  "nbformat_minor": 0
}